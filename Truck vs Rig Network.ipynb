{
 "cells": [
  {
   "cell_type": "markdown",
   "metadata": {},
   "source": [
    "# Truck Vs Rig Network\n",
    "\n",
    "This network will classify a image of a truck or semi as a truck or a semi. \n",
    "\n",
    "## Why?\n",
    "\n",
    "This is my first project for fast.ai's v3 course. \n",
    "\n",
    "## Data?\n",
    "\n",
    "The data are images from the ImageNET dtaset, downloaded and cropped using a tool I created specifically to grab, crop, and scale images from the ImageNET dataset. For those who are interested, you can find out more about *grabber* [here](https://github.com/ScottVaverchak/ml-tools)."
   ]
  },
  {
   "cell_type": "code",
   "execution_count": null,
   "metadata": {},
   "outputs": [],
   "source": []
  }
 ],
 "metadata": {
  "kernelspec": {
   "display_name": "Python 3",
   "language": "python",
   "name": "python3"
  },
  "language_info": {
   "codemirror_mode": {
    "name": "ipython",
    "version": 3
   },
   "file_extension": ".py",
   "mimetype": "text/x-python",
   "name": "python",
   "nbconvert_exporter": "python",
   "pygments_lexer": "ipython3",
   "version": "3.7.4"
  }
 },
 "nbformat": 4,
 "nbformat_minor": 2
}
